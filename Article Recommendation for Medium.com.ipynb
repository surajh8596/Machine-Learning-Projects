{
 "cells": [
  {
   "cell_type": "markdown",
   "id": "776f37de",
   "metadata": {},
   "source": [
    "### Article Recommendation System\n",
    "* Recommendation systems in machine learning are one such algorithm that works based on the similarity of contents.\n",
    "* There are various ways to measure the similarity between the two contents and recommendation systems basically use the [similarity matrix] to recommend the similar content to the user based on his accessing characteristics. So any recommendation data can be acquired and the required features that would be useful for recommending the contents can be taken out from the data. Once the required textual data is available the textual data has to be vectorized using the CountVectorizer to obtain the similarity matrix. So once the similarity matrix is obtained the cosine similarity metrics of scikit learn can be used to recommend the user.\n",
    "\n",
    "### Cosine Similarity in recommendation system\n",
    "* So the cosine similarity would yield a similarity matrix for the selected textual data for recommendation and the content with higher similarity scores can be sorted using lists.\n",
    "* Here cosine similarity would consider the frequently occurring terms in the textual data and that terms would be vectorized with higher frequencies and that content would be recommended with higher recommendation percentages. So this is how cosine similarity is used in recommendation systems."
   ]
  },
  {
   "cell_type": "code",
   "execution_count": null,
   "id": "77a8dddd",
   "metadata": {},
   "outputs": [],
   "source": []
  },
  {
   "cell_type": "markdown",
   "id": "7e2bbf4e",
   "metadata": {},
   "source": [
    "### Example of cosine similarity for Numbers"
   ]
  },
  {
   "cell_type": "code",
   "execution_count": 1,
   "id": "1874cd7d",
   "metadata": {},
   "outputs": [
    {
     "name": "stdout",
     "output_type": "stream",
     "text": [
      "[[0.92925111]]\n"
     ]
    }
   ],
   "source": [
    "import numpy as np\n",
    "import pandas as pd\n",
    "from sklearn.metrics.pairwise import cosine_similarity\n",
    "\n",
    "a = np.array([10, 5, 15, 7, 5])\n",
    "b = np.array([5, 10, 17, 5, 3])\n",
    "cosine = cosine_similarity(a.reshape(1, -1), b.reshape(1, -1))\n",
    "print(cosine)"
   ]
  },
  {
   "cell_type": "markdown",
   "id": "d77a29f6",
   "metadata": {},
   "source": [
    "**Cosine similarity is near to 1, that means both the arrays are likely to be similar.**"
   ]
  },
  {
   "cell_type": "code",
   "execution_count": null,
   "id": "cdfb48fc",
   "metadata": {},
   "outputs": [],
   "source": []
  },
  {
   "cell_type": "markdown",
   "id": "0fa763d9",
   "metadata": {},
   "source": [
    "### Example of cosine similarity for Text"
   ]
  },
  {
   "cell_type": "code",
   "execution_count": 34,
   "id": "45dcd43f",
   "metadata": {},
   "outputs": [],
   "source": [
    "df=pd.DataFrame({\n",
    "    \"Article\":['Machine learning is divided into two basic types, one is supervised and another is unsupervised.'],\n",
    "    \"Recommender\":\"Supervised, unsupervised are two types of machine learning algorithm that used in prediction.\"\n",
    "})"
   ]
  },
  {
   "cell_type": "code",
   "execution_count": 35,
   "id": "378e04ca",
   "metadata": {},
   "outputs": [
    {
     "name": "stdout",
     "output_type": "stream",
     "text": [
      "Similarity Matrix [[1 1 1 1 1 3 1 1 1 1 1 1 1]]\n",
      "Similarity Matrix [[1 1 1 1 1 1 1 1 1 1 1 1 1]]\n"
     ]
    },
    {
     "data": {
      "text/plain": [
       "array([[0.9078413]])"
      ]
     },
     "execution_count": 35,
     "metadata": {},
     "output_type": "execute_result"
    }
   ],
   "source": [
    "from sklearn.feature_extraction.text import CountVectorizer, TfidfVectorizer\n",
    "from sklearn.metrics.pairwise import cosine_similarity\n",
    "count_vec=CountVectorizer()\n",
    "sim_matrix1=count_vec.fit_transform(df['Article'])\n",
    "sim_matrix2=count_vec.fit_transform(df['Recommender'])\n",
    "print('Similarity Matrix',sim_matrix1.toarray())\n",
    "print('Similarity Matrix',sim_matrix2.toarray())\n",
    "\n",
    "cos_sim = cosine_similarity(sim_matrix1, sim_matrix2)\n",
    "cos_sim"
   ]
  },
  {
   "cell_type": "markdown",
   "id": "75b1a830",
   "metadata": {},
   "source": [
    "**Cosine similarity score is near to 1, hence both sentences are nearly similarity.**"
   ]
  },
  {
   "cell_type": "code",
   "execution_count": null,
   "id": "14d743de",
   "metadata": {},
   "outputs": [],
   "source": []
  },
  {
   "cell_type": "markdown",
   "id": "1fc403fc",
   "metadata": {},
   "source": [
    "## Article Recommendation for medium.com"
   ]
  },
  {
   "cell_type": "code",
   "execution_count": 26,
   "id": "7cbb6516",
   "metadata": {},
   "outputs": [],
   "source": [
    "pd.options.display.max_colwidth=100000000"
   ]
  },
  {
   "cell_type": "code",
   "execution_count": 36,
   "id": "938cfd92",
   "metadata": {},
   "outputs": [
    {
     "data": {
      "text/html": [
       "<div>\n",
       "<style scoped>\n",
       "    .dataframe tbody tr th:only-of-type {\n",
       "        vertical-align: middle;\n",
       "    }\n",
       "\n",
       "    .dataframe tbody tr th {\n",
       "        vertical-align: top;\n",
       "    }\n",
       "\n",
       "    .dataframe thead th {\n",
       "        text-align: right;\n",
       "    }\n",
       "</style>\n",
       "<table border=\"1\" class=\"dataframe\">\n",
       "  <thead>\n",
       "    <tr style=\"text-align: right;\">\n",
       "      <th></th>\n",
       "      <th>Article</th>\n",
       "      <th>Title</th>\n",
       "    </tr>\n",
       "  </thead>\n",
       "  <tbody>\n",
       "    <tr>\n",
       "      <th>0</th>\n",
       "      <td>Data analysis is the process of inspecting and exploring data generated by a particular population to find the information needed to make decisions and draw conclusions. With the use of data in decision making, most businesses today need data analysts. So, if you want to know about the best books to learn data analysis, this article is for you. In this article, I will introduce you to some of the best books to learn data analysis.</td>\n",
       "      <td>Best Books to Learn Data Analysis</td>\n",
       "    </tr>\n",
       "    <tr>\n",
       "      <th>1</th>\n",
       "      <td>The performance of a machine learning algorithm on a particular dataset often depends on whether the features of the dataset satisfies the assumptions of that machine learning algorithm. Not all machine learning algorithms have assumptions that differentiate them from each other. So, in this article, I will take you through the assumptions of machine learning algorithms.</td>\n",
       "      <td>Assumptions of Machine Learning Algorithms</td>\n",
       "    </tr>\n",
       "    <tr>\n",
       "      <th>2</th>\n",
       "      <td>You must have seen the news divided into categories when you go to a news website. Some of the popular categories that you'll see on almost any news website are tech, entertainment, and sports. If you want to know how to classify news categories using machine learning, this article is for you. In this article, I will walk you through the task of news classification with machine learning using Python.</td>\n",
       "      <td>News Classification with Machine Learning</td>\n",
       "    </tr>\n",
       "    <tr>\n",
       "      <th>3</th>\n",
       "      <td>When there are only two classes in a classification problem, this is the problem of binary classification, just like that, classification with more than two classes is called multiclass classification. If you want to know the best machine learning algorithms for multiclass classification, this article is for you. In this article, I will introduce you to some of the best multiclass classification algorithms in machine learning.</td>\n",
       "      <td>Multiclass Classification Algorithms in Machine Learning</td>\n",
       "    </tr>\n",
       "    <tr>\n",
       "      <th>4</th>\n",
       "      <td>The Multinomial Naive Bayes is one of the variants of the Naive Bayes algorithm in machine learning. It is very useful when the data is distributed in a multinomial way. This algorithm is especially preferred in classification tasks based on natural language processing. Spam detection is one of the applications where this algorithm can be used. If you have never used the Multinomial Naive Bayes algorithm before, this article is for you. In this article, I will take you through an introduction to the Multinomial Naive Bayes algorithm in machine learning and its implementation using Python.</td>\n",
       "      <td>Multinomial Naive Bayes in Machine Learning</td>\n",
       "    </tr>\n",
       "  </tbody>\n",
       "</table>\n",
       "</div>"
      ],
      "text/plain": [
       "                                                                                                                                                                                                                                                                                                                                                                                                                                                                                                                                                                                                               Article  \\\n",
       "0                                                                                                                                                                   Data analysis is the process of inspecting and exploring data generated by a particular population to find the information needed to make decisions and draw conclusions. With the use of data in decision making, most businesses today need data analysts. So, if you want to know about the best books to learn data analysis, this article is for you. In this article, I will introduce you to some of the best books to learn data analysis.   \n",
       "1                                                                                                                                                                                                                                The performance of a machine learning algorithm on a particular dataset often depends on whether the features of the dataset satisfies the assumptions of that machine learning algorithm. Not all machine learning algorithms have assumptions that differentiate them from each other. So, in this article, I will take you through the assumptions of machine learning algorithms.   \n",
       "2                                                                                                                                                                                                  You must have seen the news divided into categories when you go to a news website. Some of the popular categories that you'll see on almost any news website are tech, entertainment, and sports. If you want to know how to classify news categories using machine learning, this article is for you. In this article, I will walk you through the task of news classification with machine learning using Python.   \n",
       "3                                                                                                                                                                       When there are only two classes in a classification problem, this is the problem of binary classification, just like that, classification with more than two classes is called multiclass classification. If you want to know the best machine learning algorithms for multiclass classification, this article is for you. In this article, I will introduce you to some of the best multiclass classification algorithms in machine learning.   \n",
       "4  The Multinomial Naive Bayes is one of the variants of the Naive Bayes algorithm in machine learning. It is very useful when the data is distributed in a multinomial way. This algorithm is especially preferred in classification tasks based on natural language processing. Spam detection is one of the applications where this algorithm can be used. If you have never used the Multinomial Naive Bayes algorithm before, this article is for you. In this article, I will take you through an introduction to the Multinomial Naive Bayes algorithm in machine learning and its implementation using Python.   \n",
       "\n",
       "                                                      Title  \n",
       "0                         Best Books to Learn Data Analysis  \n",
       "1                Assumptions of Machine Learning Algorithms  \n",
       "2                 News Classification with Machine Learning  \n",
       "3  Multiclass Classification Algorithms in Machine Learning  \n",
       "4               Multinomial Naive Bayes in Machine Learning  "
      ]
     },
     "execution_count": 36,
     "metadata": {},
     "output_type": "execute_result"
    }
   ],
   "source": [
    "data=pd.read_csv(\"D:\\\\PGP IN DATA SCIENCE with Careerera\\\\Data Sets\\\\ML Datasets\\\\articles.csv\")\n",
    "data.head()"
   ]
  },
  {
   "cell_type": "markdown",
   "id": "38d286d4",
   "metadata": {},
   "source": [
    "**In the datasets we have Article and Title of that Article.**"
   ]
  },
  {
   "cell_type": "markdown",
   "id": "17839ac4",
   "metadata": {},
   "source": [
    "**Lets use Cosine Similarity Matrix to Recommend reader a Similar Content.**"
   ]
  },
  {
   "cell_type": "code",
   "execution_count": 37,
   "id": "e5ce2df2",
   "metadata": {},
   "outputs": [
    {
     "data": {
      "text/html": [
       "<div>\n",
       "<style scoped>\n",
       "    .dataframe tbody tr th:only-of-type {\n",
       "        vertical-align: middle;\n",
       "    }\n",
       "\n",
       "    .dataframe tbody tr th {\n",
       "        vertical-align: top;\n",
       "    }\n",
       "\n",
       "    .dataframe thead th {\n",
       "        text-align: right;\n",
       "    }\n",
       "</style>\n",
       "<table border=\"1\" class=\"dataframe\">\n",
       "  <thead>\n",
       "    <tr style=\"text-align: right;\">\n",
       "      <th></th>\n",
       "      <th>Article</th>\n",
       "      <th>Title</th>\n",
       "      <th>Recommended Articles</th>\n",
       "    </tr>\n",
       "  </thead>\n",
       "  <tbody>\n",
       "    <tr>\n",
       "      <th>0</th>\n",
       "      <td>Data analysis is the process of inspecting and exploring data generated by a particular population to find the information needed to make decisions and draw conclusions. With the use of data in decision making, most businesses today need data analysts. So, if you want to know about the best books to learn data analysis, this article is for you. In this article, I will introduce you to some of the best books to learn data analysis.</td>\n",
       "      <td>Best Books to Learn Data Analysis</td>\n",
       "      <td>Introduction to Recommendation Systems, Best Books to Learn Computer Vision, Best Books to Learn Deep Learning, Best Resources to Learn Python</td>\n",
       "    </tr>\n",
       "    <tr>\n",
       "      <th>1</th>\n",
       "      <td>The performance of a machine learning algorithm on a particular dataset often depends on whether the features of the dataset satisfies the assumptions of that machine learning algorithm. Not all machine learning algorithms have assumptions that differentiate them from each other. So, in this article, I will take you through the assumptions of machine learning algorithms.</td>\n",
       "      <td>Assumptions of Machine Learning Algorithms</td>\n",
       "      <td>Applications of Deep Learning, Best Books to Learn Deep Learning, Naive Bayes Algorithm in Machine Learning, Use Cases of Different Machine Learning Algorithms</td>\n",
       "    </tr>\n",
       "    <tr>\n",
       "      <th>2</th>\n",
       "      <td>You must have seen the news divided into categories when you go to a news website. Some of the popular categories that you'll see on almost any news website are tech, entertainment, and sports. If you want to know how to classify news categories using machine learning, this article is for you. In this article, I will walk you through the task of news classification with machine learning using Python.</td>\n",
       "      <td>News Classification with Machine Learning</td>\n",
       "      <td>Language Detection with Machine Learning, Apple Stock Price Prediction with Machine Learning, Multiclass Classification Algorithms in Machine Learning, News Classification with Machine Learning</td>\n",
       "    </tr>\n",
       "    <tr>\n",
       "      <th>3</th>\n",
       "      <td>When there are only two classes in a classification problem, this is the problem of binary classification, just like that, classification with more than two classes is called multiclass classification. If you want to know the best machine learning algorithms for multiclass classification, this article is for you. In this article, I will introduce you to some of the best multiclass classification algorithms in machine learning.</td>\n",
       "      <td>Multiclass Classification Algorithms in Machine Learning</td>\n",
       "      <td>Assumptions of Machine Learning Algorithms, Best Books to Learn Deep Learning, Use Cases of Different Machine Learning Algorithms, Clustering Algorithms in Machine Learning</td>\n",
       "    </tr>\n",
       "    <tr>\n",
       "      <th>4</th>\n",
       "      <td>The Multinomial Naive Bayes is one of the variants of the Naive Bayes algorithm in machine learning. It is very useful when the data is distributed in a multinomial way. This algorithm is especially preferred in classification tasks based on natural language processing. Spam detection is one of the applications where this algorithm can be used. If you have never used the Multinomial Naive Bayes algorithm before, this article is for you. In this article, I will take you through an introduction to the Multinomial Naive Bayes algorithm in machine learning and its implementation using Python.</td>\n",
       "      <td>Multinomial Naive Bayes in Machine Learning</td>\n",
       "      <td>Assumptions of Machine Learning Algorithms, Mean Shift Clustering in Machine Learning, Language Detection with Machine Learning, Naive Bayes Algorithm in Machine Learning</td>\n",
       "    </tr>\n",
       "  </tbody>\n",
       "</table>\n",
       "</div>"
      ],
      "text/plain": [
       "                                                                                                                                                                                                                                                                                                                                                                                                                                                                                                                                                                                                               Article  \\\n",
       "0                                                                                                                                                                   Data analysis is the process of inspecting and exploring data generated by a particular population to find the information needed to make decisions and draw conclusions. With the use of data in decision making, most businesses today need data analysts. So, if you want to know about the best books to learn data analysis, this article is for you. In this article, I will introduce you to some of the best books to learn data analysis.   \n",
       "1                                                                                                                                                                                                                                The performance of a machine learning algorithm on a particular dataset often depends on whether the features of the dataset satisfies the assumptions of that machine learning algorithm. Not all machine learning algorithms have assumptions that differentiate them from each other. So, in this article, I will take you through the assumptions of machine learning algorithms.   \n",
       "2                                                                                                                                                                                                  You must have seen the news divided into categories when you go to a news website. Some of the popular categories that you'll see on almost any news website are tech, entertainment, and sports. If you want to know how to classify news categories using machine learning, this article is for you. In this article, I will walk you through the task of news classification with machine learning using Python.   \n",
       "3                                                                                                                                                                       When there are only two classes in a classification problem, this is the problem of binary classification, just like that, classification with more than two classes is called multiclass classification. If you want to know the best machine learning algorithms for multiclass classification, this article is for you. In this article, I will introduce you to some of the best multiclass classification algorithms in machine learning.   \n",
       "4  The Multinomial Naive Bayes is one of the variants of the Naive Bayes algorithm in machine learning. It is very useful when the data is distributed in a multinomial way. This algorithm is especially preferred in classification tasks based on natural language processing. Spam detection is one of the applications where this algorithm can be used. If you have never used the Multinomial Naive Bayes algorithm before, this article is for you. In this article, I will take you through an introduction to the Multinomial Naive Bayes algorithm in machine learning and its implementation using Python.   \n",
       "\n",
       "                                                      Title  \\\n",
       "0                         Best Books to Learn Data Analysis   \n",
       "1                Assumptions of Machine Learning Algorithms   \n",
       "2                 News Classification with Machine Learning   \n",
       "3  Multiclass Classification Algorithms in Machine Learning   \n",
       "4               Multinomial Naive Bayes in Machine Learning   \n",
       "\n",
       "                                                                                                                                                                                Recommended Articles  \n",
       "0                                                     Introduction to Recommendation Systems, Best Books to Learn Computer Vision, Best Books to Learn Deep Learning, Best Resources to Learn Python  \n",
       "1                                    Applications of Deep Learning, Best Books to Learn Deep Learning, Naive Bayes Algorithm in Machine Learning, Use Cases of Different Machine Learning Algorithms  \n",
       "2  Language Detection with Machine Learning, Apple Stock Price Prediction with Machine Learning, Multiclass Classification Algorithms in Machine Learning, News Classification with Machine Learning  \n",
       "3                       Assumptions of Machine Learning Algorithms, Best Books to Learn Deep Learning, Use Cases of Different Machine Learning Algorithms, Clustering Algorithms in Machine Learning  \n",
       "4                         Assumptions of Machine Learning Algorithms, Mean Shift Clustering in Machine Learning, Language Detection with Machine Learning, Naive Bayes Algorithm in Machine Learning  "
      ]
     },
     "execution_count": 37,
     "metadata": {},
     "output_type": "execute_result"
    }
   ],
   "source": [
    "articles = data[\"Article\"].tolist()\n",
    "tf = TfidfVectorizer(input=articles, stop_words=\"english\")\n",
    "matrix = tf.fit_transform(articles)\n",
    "cos_sim = cosine_similarity(matrix)\n",
    "def recommend_articles(x):\n",
    "    return \", \".join(data[\"Title\"].loc[x.argsort()[-5:-1]])    \n",
    "data[\"Recommended Articles\"] = [recommend_articles(x) for x in cos_sim]\n",
    "data.head()"
   ]
  },
  {
   "cell_type": "code",
   "execution_count": null,
   "id": "cf32a068",
   "metadata": {},
   "outputs": [],
   "source": []
  },
  {
   "cell_type": "markdown",
   "id": "89578e15",
   "metadata": {},
   "source": [
    "#### In this Way many online websites using Recommendation system to suggest content for readers or viewers."
   ]
  },
  {
   "cell_type": "code",
   "execution_count": null,
   "id": "40f7692f",
   "metadata": {},
   "outputs": [],
   "source": []
  }
 ],
 "metadata": {
  "kernelspec": {
   "display_name": "python3.11",
   "language": "python",
   "name": "python3.11"
  },
  "language_info": {
   "codemirror_mode": {
    "name": "ipython",
    "version": 3
   },
   "file_extension": ".py",
   "mimetype": "text/x-python",
   "name": "python",
   "nbconvert_exporter": "python",
   "pygments_lexer": "ipython3",
   "version": "3.9.7"
  }
 },
 "nbformat": 4,
 "nbformat_minor": 5
}
